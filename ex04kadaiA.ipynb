{
 "cells": [
  {
   "cell_type": "markdown",
   "source": [
    "# AProg2021 ex04 課題A\n",
    "\n",
    "https://www-tlab.math.ryukoku.ac.jp/wiki/?AProg/2021/ex04#kadaiA"
   ],
   "metadata": {
    "id": "qqyvt9JCC8Sc"
   }
  },
  {
   "cell_type": "markdown",
   "source": [
    "## P1\n",
    "以下の関数は，p.138 のコードを基にして作ったものです．"
   ],
   "metadata": {}
  },
  {
   "cell_type": "code",
   "execution_count": null,
   "source": [
    "# 地表で水平方向に速度 v [km/h] で打ち出した物体のふるまいを表示する関数\n",
    "#\n",
    "def EscapeVelocity(v):\n",
    "\n",
    "    print(\"速度\", v, \"[km/h]の場合...\", end = \"\")\n",
    "    \n",
    "    if v < 28400:              # 第一宇宙速度以下\n",
    "        print(\"地上に落下します\")\n",
    "    if v >= 40300 and v < 60100: # 第二宇宙速度以上\n",
    "        print(\"惑星の仲間入りです\")\n",
    "    if v >= 28400 and v < 40300: # 第一宇宙速度以上\n",
    "        print(\"月とお友達です\")\n",
    "    if v >= 60100:               # 第三宇宙速度以上\n",
    "        print(\"アルファケンタウリを目指せ\")"
   ],
   "outputs": [],
   "metadata": {}
  },
  {
   "cell_type": "markdown",
   "source": [
    "1. まずは，そのまま以下を実行してみましょう．"
   ],
   "metadata": {}
  },
  {
   "cell_type": "code",
   "execution_count": null,
   "source": [
    "# 動作確認\n",
    "#\n",
    "for x in [10000, 30000, 50000, 70000]:\n",
    "    EscapeVelocity(x)"
   ],
   "outputs": [],
   "metadata": {}
  },
  {
   "cell_type": "markdown",
   "source": [
    "2. 次に，関数 `EscapeVelocity()` 中の条件式で `and` を使っている部分を，`a <= v < b` の形に書き直しましょう．"
   ],
   "metadata": {}
  },
  {
   "cell_type": "markdown",
   "source": [
    "3. この関数の条件判定は，`if-elif-else` の形にするとすっきり書けます．しかも，上記の `28400` や `40300` のような値を複数箇所に書く必要もなくなるので，バグも入りにくくなります．以下のセルに，そのようにした関数 `EscapeVelocity2()` の定義を書き（**↑ではなく↓をいじれと言ってることに注意**），「動作確認」のセルで `EscapeVelocity()` を呼んでいるところを `2` の方を呼ぶように修正して動作確認しましょう．"
   ],
   "metadata": {}
  },
  {
   "cell_type": "code",
   "execution_count": null,
   "source": [
    "# 地表で水平方向に速度 v [km/h] で打ち出した物体のふるまいを表示する関数 ver.2\n",
    "#"
   ],
   "outputs": [],
   "metadata": {}
  },
  {
   "cell_type": "markdown",
   "source": [
    "## P2\n",
    "1. 以下のセルの`#(1)#` のところに，変数 `d` が次のようなキーと値を持つディクショナリ（辞書）となるようにする文を書いてください．\n",
    "    >    | キー | 値 |\n",
    "    >    |:--:|:--:|\n",
    "    >    | \"青いタヌキ\" | \"ドラえもん\" |\n",
    "    >    | \"0.93秒で熟睡\" | \"野比のび太\" |\n",
    "    >    | \"いいえ，もっと汚いの\" | \"きれいなジャイアン\" |\n",
    "\n",
    "1. `#(2)#` のところを修正して，このセルを実行すると `d` の内容が「キー = 値」という形で表示されるようにしてください．"
   ],
   "metadata": {}
  },
  {
   "cell_type": "code",
   "execution_count": null,
   "source": [
    "d = #(1)#\n",
    "for key in ['青いタヌキ', '0.93秒で熟睡', 'いいえ，もっと汚いの']:\n",
    "    print(key, '=', #(2))"
   ],
   "outputs": [],
   "metadata": {}
  },
  {
   "cell_type": "markdown",
   "source": [
    "## P3\n",
    "まず以下のセルを実行して， `zipcode` という辞書を作ろう．"
   ],
   "metadata": {}
  },
  {
   "cell_type": "code",
   "execution_count": null,
   "source": [
    "zipcode = {\n",
    "    '0010010':'北海道札幌市北区北十条西（１～４丁目）',\n",
    "    '1002101':'東京都小笠原村父島', \n",
    "    '9998531':'山形県飽海郡遊佐町菅里（その他）',\n",
    "    '1234567':'ほげおんち'\n",
    "    }"
   ],
   "outputs": [],
   "metadata": {}
  },
  {
   "cell_type": "markdown",
   "source": [
    "以下のセルに，実行すると次のような結果が得られるコードを書いてください．\n",
    "\n",
    "```\n",
    "郵便番号をどぞ 0010010     ==>  \"0010010\" がキーボードからの入力\n",
    "0010010 北海道札幌市北区北十条西（１～４丁目）\n",
    "郵便番号をどぞ 1002101     ==>  \"1002101\" がキーボードからの入力\n",
    "1002101 東京都小笠原村父島\n",
    "郵便番号をどぞ 9999999     ==>  \"9999999\" がキーボードからの入力\n",
    "9999999 は見つかりません\n",
    "郵便番号をどぞ q           ==>  \"q\" がキーボードからの入力\n",
    "```\n",
    "\n",
    "ただし，キーボードから郵便番号相当の文字列の入力を受け付けたら，それを辞書`zipcode`から探した結果を表示するようにして，それを繰り返し，入力が `'Q'` か `'q'` になったら終了するようにしてください．\n",
    "\n",
    "ヒント(1) 次のようにすると無限ループできます（`while`文はp.139）．\n",
    "\n",
    "```\n",
    "while True:\n",
    "    print('ほげ')\n",
    "```\n",
    "\n",
    "ヒント(2) Python にも `break` 文あります（p.141）．"
   ],
   "metadata": {}
  },
  {
   "cell_type": "code",
   "execution_count": null,
   "source": [
    "# このセルに上記の指示にしたがったコードを書く\n"
   ],
   "outputs": [],
   "metadata": {}
  },
  {
   "cell_type": "markdown",
   "source": [
    "## P4\n",
    "\n",
    "次のことを上から順番にやりましょう．\n"
   ],
   "metadata": {}
  },
  {
   "cell_type": "markdown",
   "source": [
    "### P4-(1)\n",
    "\n",
    "| キー | 値 |\n",
    "|:--:|:--:|\n",
    "| 名前 | \"ほげお\" |\n",
    "| HP | 18 |\n",
    "| MP | 999 |\n",
    "\n",
    "以下のセルを修正して，変数 `hoge` が上記のようなキーと値のペアを持つディクショナリとなるようにしてください．\n"
   ],
   "metadata": {}
  },
  {
   "cell_type": "code",
   "execution_count": null,
   "source": [
    "# ディクショナリ hoge を定義する\n"
   ],
   "outputs": [],
   "metadata": {}
  },
  {
   "cell_type": "markdown",
   "source": [
    "### P4-(2)\n",
    "\n",
    "以下のセルに，次の指示にしたがって `hoge` の内容を変更するコードを書いてください． `hoge` を一から定義し直すのではありません．\n",
    "\n",
    "1. キー `攻撃力` 値 `0.1` を追加\n",
    "1. キー `防御力` 値 `0.001` を追加\n",
    "1. キー `MP` の値 `999` は間違いで，本当は `0` だったので，修正しよう"
   ],
   "metadata": {}
  },
  {
   "cell_type": "code",
   "execution_count": null,
   "source": [
    "# ここに hoge の内容を変更するコードを書く\n",
    "\n",
    "print(hoge)"
   ],
   "outputs": [],
   "metadata": {}
  },
  {
   "cell_type": "markdown",
   "source": [
    "### P4-(3)\n",
    "\n",
    "以下のセルに，次のような仕様の関数 `Wizard` を定義するコードを書いてください．\n",
    "\n",
    "1. 引数は一つだけ（練習のため名前を指定します，`p`としてください）\n",
    "1. その引数はディクショナリを表すと仮定して，そのディクショナリのキー `MP` の値が `0` より大きければ\n",
    "```\n",
    "「名前」 は魔法使いです\n",
    "```\n",
    "と表示し，さもなくば，\n",
    "```\n",
    "「名前」 は魔法使えません\n",
    "```\n",
    "と表示する．「名前」の部分は，実際には，ディクショナリのキー `名前` の値とする．\n",
    "1. 引数で受け取ったものがディクショナリでなかった，上記で扱ってるキーが存在しなかった，というような場合のエラー処理は考えなくてよい．\n",
    "\n",
    "```\n",
    "＜実行例＞\n",
    "Wizard(hoge)\n",
    "ほげお は魔法使えません\n",
    "```"
   ],
   "metadata": {}
  },
  {
   "cell_type": "code",
   "execution_count": null,
   "source": [
    "# ここに魔法使い判定関数を定義する\n"
   ],
   "outputs": [],
   "metadata": {}
  },
  {
   "cell_type": "code",
   "execution_count": null,
   "source": [
    "# 動作確認．このセルを修正する必要はないはず\n",
    "Wizard(hoge)"
   ],
   "outputs": [],
   "metadata": {}
  }
 ],
 "metadata": {
  "colab": {
   "collapsed_sections": [],
   "name": "ex02kadaiA.ipynb",
   "provenance": []
  },
  "kernelspec": {
   "display_name": "Python 3",
   "language": "python",
   "name": "python3"
  },
  "language_info": {
   "codemirror_mode": {
    "name": "ipython",
    "version": 3
   },
   "file_extension": ".py",
   "mimetype": "text/x-python",
   "name": "python",
   "nbconvert_exporter": "python",
   "pygments_lexer": "ipython3",
   "version": "3.8.5"
  }
 },
 "nbformat": 4,
 "nbformat_minor": 4
}