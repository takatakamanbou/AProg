{
 "cells": [
  {
   "cell_type": "markdown",
   "source": [
    "# AProg2021 ex01 Notebook その1\n",
    "\n",
    "AProgのページ https://www-tlab.math.ryukoku.ac.jp/wiki/?AProg/2021"
   ],
   "metadata": {}
  },
  {
   "cell_type": "markdown",
   "source": [
    "この資料中に説明なくページ番号が出てくる場合，教科書のページ番号を表しています．"
   ],
   "metadata": {}
  },
  {
   "cell_type": "markdown",
   "source": [
    "---\n",
    "## 数値を使う (pp.48-50)"
   ],
   "metadata": {}
  },
  {
   "cell_type": "markdown",
   "source": [
    "pp.48,49を**読んで理解したら**，以下のセルを実行しなさい．このセルを選択した状態（左側に縦棒がついた状態）で，次のいずれか\n",
    "- Shift + Enter\n",
    "- ↑の三角形のボタンを押す\n",
    "- メニューから Run > Run Selected Cell"
   ],
   "metadata": {}
  },
  {
   "cell_type": "code",
   "execution_count": null,
   "source": [
    "5-5+1+9"
   ],
   "outputs": [],
   "metadata": {}
  },
  {
   "cell_type": "markdown",
   "source": [
    "以下のセルに，教科書で↑に続いて載っている式を**一つずつ**書いて実行しなさい．"
   ],
   "metadata": {}
  },
  {
   "cell_type": "code",
   "execution_count": null,
   "source": [
    "5/5/1+9"
   ],
   "outputs": [],
   "metadata": {}
  },
  {
   "cell_type": "code",
   "execution_count": null,
   "source": [
    "5/5+1*9"
   ],
   "outputs": [],
   "metadata": {}
  },
  {
   "cell_type": "code",
   "execution_count": null,
   "source": [
    "5/5**1+9"
   ],
   "outputs": [],
   "metadata": {}
  },
  {
   "cell_type": "markdown",
   "source": [
    "↑にもうひとつセルを追加（「+」ボタン）して，p.49の累乗（べき乗）を使った式の例を書いて実行しなさい．"
   ],
   "metadata": {}
  },
  {
   "cell_type": "markdown",
   "source": [
    "p.50を表も含めて**読んで理解したら**，以下にp.50下部の2つの式を計算するセル2つを挿入して実行しなさい．"
   ],
   "metadata": {}
  },
  {
   "cell_type": "code",
   "execution_count": null,
   "source": [
    "5/5*(1+9)"
   ],
   "outputs": [],
   "metadata": {}
  },
  {
   "cell_type": "code",
   "execution_count": null,
   "source": [
    "5/(5/(1+9))"
   ],
   "outputs": [],
   "metadata": {}
  },
  {
   "cell_type": "markdown",
   "source": [
    "以下にセルを作り，4649 を 18 で割った余りを求めなさい．ほげ"
   ],
   "metadata": {}
  },
  {
   "cell_type": "code",
   "execution_count": null,
   "source": [
    "4649 % 18"
   ],
   "outputs": [],
   "metadata": {}
  },
  {
   "cell_type": "markdown",
   "source": [
    "以下にセルを作り，2の64乗を求めなさい．"
   ],
   "metadata": {}
  },
  {
   "cell_type": "code",
   "execution_count": null,
   "source": [
    "2**64"
   ],
   "outputs": [],
   "metadata": {}
  },
  {
   "cell_type": "markdown",
   "source": [
    "教科書ではここでは説明されていないが，**除算演算子 `/` は，C言語などと異なるふるまいをするので要注意**．以下を実行して確認しよう．"
   ],
   "metadata": {}
  },
  {
   "cell_type": "code",
   "execution_count": null,
   "source": [
    "# 例1    Python では # 以降の部分はコメントになる\n",
    "5 / 3"
   ],
   "outputs": [],
   "metadata": {}
  },
  {
   "cell_type": "code",
   "execution_count": null,
   "source": [
    "3 / 5     # 例2"
   ],
   "outputs": [],
   "metadata": {}
  },
  {
   "cell_type": "markdown",
   "source": [
    "C言語の場合，演算対象の数がいずれも整数型（例えばint型）だった場合，その範囲で除算を行う = 小数点以下を切り捨てた整数値が得られた．したがって，上記の例1の結果は 1 に，例2の結果は 0 になった．\n",
    "\n",
    "しかし Python の場合は上記のような結果が得られる．**整数の範囲で除算をさせたい場合は `//` という演算子を用いる**．"
   ],
   "metadata": {}
  },
  {
   "cell_type": "code",
   "execution_count": null,
   "source": [
    "5 // 3"
   ],
   "outputs": [],
   "metadata": {}
  },
  {
   "cell_type": "code",
   "execution_count": null,
   "source": [
    "3 // 5"
   ],
   "outputs": [],
   "metadata": {}
  },
  {
   "cell_type": "markdown",
   "source": [
    "Python がこのようなふるまいをするようになったのは実はバージョンが 3 になって以降である．Python3 が登場したのは比較的最近のことであり，以前のバージョンである Python2 もまだまだ現役で使われているので注意が必要である．\n",
    "\n",
    "実は Python2 と 3 で互換性のないところは他にもある．興味のあるひとは教科書13章を読みましょう．"
   ],
   "metadata": {}
  },
  {
   "cell_type": "markdown",
   "source": [
    "---\n",
    "## 変数を使う (pp.51-54)"
   ],
   "metadata": {}
  },
  {
   "cell_type": "markdown",
   "source": [
    "pp.51,52を**読んで理解したら**，以下のセルを実行しなさい．実行しても何も出力されない．"
   ],
   "metadata": {}
  },
  {
   "cell_type": "code",
   "execution_count": null,
   "source": [
    "champernowne = 0.12345678910"
   ],
   "outputs": [],
   "metadata": {}
  },
  {
   "cell_type": "code",
   "execution_count": null,
   "source": [
    "champernowne_19 = 0.1234567891011121314"
   ],
   "outputs": [],
   "metadata": {}
  },
  {
   "cell_type": "markdown",
   "source": [
    "教科書では説明されていないが，次のように`print`関数を用いることで，変数の値を出力させることができる．"
   ],
   "metadata": {}
  },
  {
   "cell_type": "code",
   "execution_count": null,
   "source": [
    "print(champernowne_19)"
   ],
   "outputs": [],
   "metadata": {}
  },
  {
   "cell_type": "markdown",
   "source": [
    "上記のセルを修正して，もう一つの変数の方の値を出力させてみよう．\n",
    "\n",
    "「champernowne って何やねん」ってひとは，[Wikipediaの「チャンパーノウン定数」](https://ja.wikipedia.org/wiki/%E3%83%81%E3%83%A3%E3%83%B3%E3%83%91%E3%83%BC%E3%83%8E%E3%82%A6%E3%83%B3%E5%AE%9A%E6%95%B0)へ．"
   ],
   "metadata": {}
  },
  {
   "cell_type": "markdown",
   "source": [
    "p.53を**読んで理解したら**，以下のセルを順次実行しなさい（importなんたら，NumPyがどうたら，という話は今はわからなくて構わない）．"
   ],
   "metadata": {}
  },
  {
   "cell_type": "code",
   "execution_count": null,
   "source": [
    "import numpy as np   #  教科書と違い， NumPy という科学技術計算モジュールから π の値を得ている\n",
    "pi = np.pi                     #  np.pi が円周率 π を表す定数\n",
    "print(pi)"
   ],
   "outputs": [],
   "metadata": {}
  },
  {
   "cell_type": "code",
   "execution_count": null,
   "source": [
    "diameter = 12756.274\n",
    "pi*diameter"
   ],
   "outputs": [],
   "metadata": {}
  },
  {
   "cell_type": "code",
   "execution_count": null,
   "source": [
    "cal_per_1kg = 7200\n",
    "cal_per_1minjog = 7.76\n",
    "\n",
    "min_to_lose1kg = cal_per_1kg/cal_per_1minjog\n",
    "hours_to_lose1kg = min_to_lose1kg/60\n",
    "print(hours_to_lose1kg)"
   ],
   "outputs": [],
   "metadata": {}
  },
  {
   "cell_type": "markdown",
   "source": [
    "以下は，上記を応用して，脂肪を**1グラム**燃やすのに何分／何秒ジョギングすればよいか計算しようとしたものである．\n",
    "要修正箇所を修正して，正しい結果を求めなさい．"
   ],
   "metadata": {}
  },
  {
   "cell_type": "code",
   "execution_count": null,
   "source": [
    "cal_per_1g = cal_per_1kg / 1000          # この行だけ修正が必要\n",
    "min_to_lose1g = cal_per_1g/cal_per_1minjog\n",
    "print(min_to_lose1g)     # 分単位\n",
    "print(min_to_lose1g*60)  # 秒単位"
   ],
   "outputs": [],
   "metadata": {}
  },
  {
   "cell_type": "markdown",
   "source": [
    "Python の変数名のつけ方について，p.53-54 に説明がある．時間に余裕のあるひとはそこを読もう．\n",
    "\n",
    "その最後に説明されている Python の予約語（特別な意味を持つものとして「予約」されてるので変数名に使えないもの）は，以下のセルを実行すれば確認できる．"
   ],
   "metadata": {}
  },
  {
   "cell_type": "code",
   "execution_count": null,
   "source": [
    "import keyword\n",
    "keyword.kwlist  # 行頭の#を削除して実行すれば，予約語を一覧できる"
   ],
   "outputs": [],
   "metadata": {}
  },
  {
   "cell_type": "markdown",
   "source": [
    "---\n",
    "## 文字列を使う (pp.55-58)"
   ],
   "metadata": {}
  },
  {
   "cell_type": "markdown",
   "source": [
    "pp.55,56を**読んで理解したら**，次の2つのセルを実行しなさい．"
   ],
   "metadata": {}
  },
  {
   "cell_type": "code",
   "execution_count": null,
   "source": [
    "spam = \"spam\"\n",
    "spam"
   ],
   "outputs": [],
   "metadata": {}
  },
  {
   "cell_type": "code",
   "execution_count": null,
   "source": [
    "a_lylic = 'でもね私のエネルギーは'\n",
    "a_lylic"
   ],
   "outputs": [],
   "metadata": {}
  },
  {
   "cell_type": "markdown",
   "source": [
    "上記の文字列は**ダブルクォーテーション**`\"`で囲んで定義されているが，教科書に説明されているように，Pythonの文字列は**シングルクォーテーション**`'`で囲んで定義してもよい．ただし，ペアは両方同じ種類でないといけない．上記の文字列定義のどちらか一方をシングルクォーテーションを使うように書き直して実行してみなさい．\n",
    "\n",
    "ちなみに，**C言語では文字列を `char` の配列として扱っていた**．CとPythonでは文字列の扱い方が全く異なる．それに，C\n",
    "の場合，シングルクォーテーションは1文字だけ，ダブルクォーテーションは文字列，と使い分けていた．"
   ],
   "metadata": {}
  },
  {
   "cell_type": "markdown",
   "source": [
    "p.57を**読んで理解したら**，次のセルを実行しなさい．"
   ],
   "metadata": {}
  },
  {
   "cell_type": "code",
   "execution_count": null,
   "source": [
    "a_lylic = a_lylic + \"すでにインフィニティだよ。\"\n",
    "a_lylic"
   ],
   "outputs": [],
   "metadata": {}
  },
  {
   "cell_type": "markdown",
   "source": [
    "教科書ではこの部分には書かれていないが，文字列に対して`*` 演算子を使って自然数を掛けると，その数ぶん元の文字列を繰り返した文字列が得られる．"
   ],
   "metadata": {}
  },
  {
   "cell_type": "code",
   "execution_count": null,
   "source": [
    "spam*3"
   ],
   "outputs": [],
   "metadata": {}
  },
  {
   "cell_type": "code",
   "execution_count": null,
   "source": [
    "100*a_lylic"
   ],
   "outputs": [],
   "metadata": {}
  },
  {
   "cell_type": "markdown",
   "source": [
    "---\n",
    "## プログラミング言語 Python （前編）\n",
    "\n",
    "### Python とは\n",
    "\n",
    "**Python** は，**プログラミング言語** の一種である．C言語と比較すると，同様の処理をより簡単に書ける点が大きな特徴である．\n",
    "例えば，C言語のプログラム\n",
    "```\n",
    "#include <stdio.h>\n",
    "\n",
    "int main(void)\n",
    "{\n",
    "    printf(\"Hello World!\\n\");\n",
    "    \n",
    "    return 0;\n",
    "}\n",
    "```\n",
    "と同様のものを Python で書くと，次のようになる．\n",
    "```\n",
    "print(\"Hello World\");\n",
    "```\n",
    "\n",
    "簡単に書けることから，旧来の言語（C言語など）に比べて習得や使用が容易と言われることもある（本当にそうかはこれから身をもって体感してください）．\n",
    "簡単に書けるという意味で類似の言語には，**Perl**, **Ruby** などがある．\n"
   ],
   "metadata": {}
  },
  {
   "cell_type": "markdown",
   "source": [
    "### Python プログラムの実行の仕方\n",
    "\n",
    "前回体験したように，Python のプログラムは様々なやり方で実行できる．\n",
    "この notebook 上では，数行のプログラムの断片（コードスニペットと呼ばれることがある）をその場で実行して結果を即座に確認できる．\n",
    "一方， hoge.py のような名前のテキストファイルにプログラムを書いて，次のようにコマンドラインから実行することもできる．\n",
    "```\n",
    "$ python  hoge.py\n",
    "```\n",
    "これらの実行はどのような仕組みになっているのだろう．\n",
    "\n",
    "C言語の場合， hoge.c のようなソースファイルを作ったら，それを実行するには次のような手順を経る：\n",
    "1. ソースをコンパイルして実行形式のファイルを作る\n",
    "```\n",
    "$ cc  hoge.c  -o  hoge\n",
    "```\n",
    "\n",
    "1. 実行形式のファイルを実行する\n",
    "```\n",
    "$ ./hoge\n",
    "```\n",
    "\n",
    "コンパイルというのは，人間が理解しやすい形のプログラムを，コンピュータが理解しやすい形の機械語プログラムに翻訳する作業のことだった．\n",
    "この場合，プログラム実行時には，**あらかじめ翻訳済み**の機械語プログラムをコンピュータが（CPUが）読解して実行していくことになる．\n",
    "\n",
    "一方，Python プログラムの実行の場合，上述のようにファイル hoge.py を python というコマンドに渡して実行してもらっている．\n",
    "この python コマンドは，人間が理解しやすい形で書かれた hoge.py の中身を，上から順に**逐次翻訳しながら実行**する仕事をしている．\n",
    "翻訳者が事前にプログラム全体を翻訳しておくやり方と，通訳者が同時通訳するやり方の違い，といえばよいだろうか．\n",
    "\n",
    "C言語の場合は，ccコマンドで実行されるコンパイラが翻訳者に相当する．翻訳が済んでしませば翻訳者は用済みなので，実行の際には実行形式のファイルを直接指定するだけでよい．一方，Python の場合は，実行の際に逐次通訳してもらいながら実行するので，通訳者である python コマンドを呼び出して実行する必要がある．\n",
    "\n",
    "この notebook のような仕組みは，Python の実行が上記のような仕組みになっているからこそ実現できている面もある．\n",
    "\n",
    "このような，人間向けのプログラムをコンピュータ向けのプログラムに翻訳する過程をどのように処理するかという点は，プログラミング言語の性質・特徴を決める重要なポイントである．それぞれのやり方に長所短所があるのだが，この授業ではこれ以上は立ち入らないことにする．"
   ],
   "metadata": {}
  }
 ],
 "metadata": {
  "kernelspec": {
   "display_name": "Python 3",
   "language": "python",
   "name": "python3"
  },
  "language_info": {
   "codemirror_mode": {
    "name": "ipython",
    "version": 3
   },
   "file_extension": ".py",
   "mimetype": "text/x-python",
   "name": "python",
   "nbconvert_exporter": "python",
   "pygments_lexer": "ipython3",
   "version": "3.8.5"
  },
  "toc": {
   "base_numbering": 1,
   "nav_menu": {},
   "number_sections": false,
   "sideBar": true,
   "skip_h1_title": true,
   "title_cell": "目次",
   "title_sidebar": "Contents",
   "toc_cell": true,
   "toc_position": {
    "height": "calc(100% - 180px)",
    "left": "10px",
    "top": "150px",
    "width": "169px"
   },
   "toc_section_display": true,
   "toc_window_display": true
  }
 },
 "nbformat": 4,
 "nbformat_minor": 4
}