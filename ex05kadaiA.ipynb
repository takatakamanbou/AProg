{
 "cells": [
  {
   "cell_type": "markdown",
   "source": [
    "# AProg2021 ex05 課題A\n",
    "\n",
    "https://www-tlab.math.ryukoku.ac.jp/wiki/?AProg/2021/ex05#kadaiA"
   ],
   "metadata": {
    "id": "qqyvt9JCC8Sc"
   }
  },
  {
   "cell_type": "markdown",
   "source": [
    "## P1\n",
    "数あてゲームを作ろう．以下が正しく動作するよう修正しよう．無駄な条件判定はしないように書こう．動作確認しよう．当たるまで実行した結果がわかる状態で提出しよう．\n",
    "\n",
    "- `random.randint()` についてはこちら:  https://docs.python.jp/3/library/random.html#random.randint\n",
    "- セルの実行を中断したい？ [ex03](https://www-tlab.math.ryukoku.ac.jp/wiki/?AProg/2021/ex03)の「注意」見てね"
   ],
   "metadata": {}
  },
  {
   "cell_type": "code",
   "execution_count": null,
   "source": [
    "import random   # random モジュールの読み込み\n",
    "\n",
    "nmax = 255\n",
    "n = random.randint(1, nmax)  \n",
    "print(\"1以上{:d}以下の数を選んだよ．当ててみ．\".format(nmax))\n",
    "\n",
    "cnt = 0  # 数を入力した回数をカウント\n",
    "\n",
    "while True:\n",
    "    x = int(input(\"数を入力してね:\"))\n",
    "    if n > x:\n",
    "        print(\"もっと大きいで\")\n",
    "    elif n < x:\n",
    "        print(\"もっと小さいで\")\n",
    "        \n",
    "print(cnt, \"回で当たり〜\")"
   ],
   "outputs": [],
   "metadata": {}
  },
  {
   "cell_type": "markdown",
   "source": [
    "## P2\n",
    "文字列を入力したら，単語内の文字をひっくり返して出力してくれるようにする問題を考えます．単語と単語の間には空白やタブ，改行などが複数はさまっていたとしても，一文字の空白に置き換えるものとします．\n",
    "\n",
    "例： `sihT   si a .nep → This is a pen.`\n",
    "\n",
    "**Python に標準で備わっている機能を自分で調べながらプログラムを作っていく練習** として，段階的にやってみましょう．\n",
    "この課題で準備して，次の課題（ex05B）で作り上げてみましょう．"
   ],
   "metadata": {}
  },
  {
   "cell_type": "markdown",
   "source": [
    "文字列を空白・タブ・改行を区切りとして分割し，分割された文字列たちを要素にもつリストを作る方法を調べましょう．\n",
    "以下の文字列 `S1` に実際にその処理を適用してみましょう．\n"
   ],
   "metadata": {}
  },
  {
   "cell_type": "code",
   "execution_count": null,
   "source": [
    "S1 = '    ぼく    ほげお       \\tほげ ほげ〜\\n'"
   ],
   "outputs": [],
   "metadata": {}
  },
  {
   "cell_type": "code",
   "execution_count": null,
   "source": [
    "# ここにコードを書いて実行した状態にしといてね\n"
   ],
   "outputs": [],
   "metadata": {}
  },
  {
   "cell_type": "markdown",
   "source": [
    "## P3\n",
    "\n",
    "P2で考えた処理の結果得られる文字列のリストを，指定の文字列をはさんで連結する方法を調べましょう．\n",
    "例えば，"
   ],
   "metadata": {}
  },
  {
   "cell_type": "code",
   "execution_count": 1,
   "source": [
    "L2 = ['あ', 'いう', 'えおか', 'きくけこ']"
   ],
   "outputs": [],
   "metadata": {}
  },
  {
   "cell_type": "markdown",
   "source": [
    "が対象の場合，\n",
    "\n",
    "- 空白1文字をはさんで連結したら，\n",
    "`'あ いう えおか きくけこ’`\n",
    "- `'***'` をはさんで連結したら，`'あ***いう***えおか***きくけこ’`\n",
    "- `'ほげ'` なら `'あほげいうほげえおかほげきくけこ'`\n",
    "\n",
    "となるようにする，ということです．"
   ],
   "metadata": {}
  },
  {
   "cell_type": "code",
   "execution_count": null,
   "source": [
    "# ここにコードを書いて動作確認しよう． `ほげ`をはさむ例が実行された状態にしといてね\n"
   ],
   "outputs": [],
   "metadata": {}
  },
  {
   "cell_type": "markdown",
   "source": [
    "## P4"
   ],
   "metadata": {}
  },
  {
   "cell_type": "markdown",
   "source": [
    "組み合わせの練習．\n",
    "\n",
    "以下の文字列から `\"ほげ\"` （この2文字の連なり）を削除したものを作ってください．\n",
    "`T` は一つの文字列になるようにしてね．\n",
    "「ex05 Notebook その3」の内容を参考に考えたらよいでしょう．"
   ],
   "metadata": {}
  },
  {
   "cell_type": "code",
   "execution_count": null,
   "source": [],
   "outputs": [],
   "metadata": {}
  },
  {
   "cell_type": "code",
   "execution_count": null,
   "source": [
    "S = \"ほほげげほげだらほげけでたほげいへんほげだほげったほげのよ，あほげりほげがほげとうほげ．\"\n",
    "T = S   #  この行を修正\n",
    "print(T)"
   ],
   "outputs": [],
   "metadata": {}
  },
  {
   "cell_type": "markdown",
   "source": [
    "（よだんだよん）「ほげ」とか hoge とか気になるひとはこちらへどうぞ．\n",
    "- Wikipedia 「メタ構文変数」 https://ja.wikipedia.org/wiki/%E3%83%A1%E3%82%BF%E6%A7%8B%E6%96%87%E5%A4%89%E6%95%B0\n",
    "- ほげを考えるページ http://kmaebashi.com/programmer/hoge.html\n",
    "- 悲報：プログラムサンプルの「hoge」が通じない時代が来た  http://nlab.itmedia.co.jp/nl/articles/1506/19/news043.html"
   ],
   "metadata": {}
  }
 ],
 "metadata": {
  "colab": {
   "collapsed_sections": [],
   "name": "ex02kadaiA.ipynb",
   "provenance": []
  },
  "kernelspec": {
   "display_name": "Python 3",
   "language": "python",
   "name": "python3"
  },
  "language_info": {
   "codemirror_mode": {
    "name": "ipython",
    "version": 3
   },
   "file_extension": ".py",
   "mimetype": "text/x-python",
   "name": "python",
   "nbconvert_exporter": "python",
   "pygments_lexer": "ipython3",
   "version": "3.8.5"
  }
 },
 "nbformat": 4,
 "nbformat_minor": 4
}