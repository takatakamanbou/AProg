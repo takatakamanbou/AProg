{
 "cells": [
  {
   "cell_type": "markdown",
   "source": [
    "# AProg2021 ex02 課題A\n",
    "\n",
    "https://www-tlab.math.ryukoku.ac.jp/wiki/?AProg/2021/ex02#kadaiA"
   ],
   "metadata": {
    "id": "qqyvt9JCC8Sc"
   }
  },
  {
   "cell_type": "markdown",
   "source": [
    "## （あ）\n",
    "\n",
    "次のセルを実行すると以下の出力が得られるように，セル中のコードを修正しなさい．\n",
    "```\n",
    "['参', 4, '五', 6, 7]\n",
    "[0, 1, 2.0, '参']\n",
    "[4, '五', 6, 7, 'はち', 9, 10]\n",
    "```"
   ],
   "metadata": {
    "id": "psZsyh_gI4Hu"
   }
  },
  {
   "cell_type": "code",
   "execution_count": null,
   "source": [
    "L2 = [ 0, 1, 2.0, \"参\", 4, \"五\", 6, 7, \"はち\", 9, 10]\n",
    "print(L2)\n",
    "print(L2)  # スライスに指定する値の片方を省略した書き方にすること\n",
    "print(L2)  # スライスに指定する値の片方を省略した書き方にすること"
   ],
   "outputs": [],
   "metadata": {
    "id": "jnFX-CbTIZB3"
   }
  },
  {
   "cell_type": "markdown",
   "source": [
    "## （い）\n",
    "次のセルを実行するとエラーになる．これを修正して，`10月は31日あるよ`と出力されるようにしなさい．print文中にベタに `10月は31日あるよ` とか書くのはNG．文字列に対する`+`演算子と型変換の関数を使う練習なので，`print(10, '月は', 31, '日あるよ')` みたいなのもNG."
   ],
   "metadata": {
    "id": "fBa6JqxdRu4b"
   }
  },
  {
   "cell_type": "code",
   "execution_count": null,
   "source": [
    "m = 10  # この行はいじってはいけない\n",
    "d = 31  # この行はいじってはいけない\n",
    "print(m + '月は' + d + '日あるよ')"
   ],
   "outputs": [],
   "metadata": {
    "id": "Z3Pk8TZcC2YS"
   }
  },
  {
   "cell_type": "markdown",
   "source": [
    "（余談） 以下のようなやり方もあります（この問題の趣旨にそぐわないので，以下の様なのをこの問題の解答に書いてもNGとします，使うなら他の機会でどぞ） \n",
    "\n",
    "```\n",
    "print('{0}月は{1}日あるよ'.format(m, d))   # 文字列の format メソッドを使う     p.177\n",
    "print(f'{m}月は{d}日あるよ')               # 「f文字列」を使う（Python3.6以降）   p.181\n",
    "```"
   ],
   "metadata": {
    "id": "t5wwjwU3fE7Q"
   }
  },
  {
   "cell_type": "markdown",
   "source": [
    "## （う）\n",
    "\n",
    "次のセルの実行結果が以下になるように，セル中のコードを修正しなさい．\n",
    "\n",
    "```\n",
    "1月は31日あるよ\n",
    "2月は28日あるよ\n",
    "3月は31日あるよ\n",
    "4月は30日あるよ\n",
    "5月は31日あるよ\n",
    "6月は30日あるよ\n",
    "7月は31日あるよ\n",
    "8月は31日あるよ\n",
    "9月は30日あるよ\n",
    "10月は31日あるよ\n",
    "11月は30日あるよ\n",
    "12月は31日あるよ\n",
    "```"
   ],
   "metadata": {
    "id": "NBxEMSeJF5Y4"
   }
  },
  {
   "cell_type": "code",
   "execution_count": null,
   "source": [
    "numDays = [0, 31, 28, 31, 30, 31, 30, 31, 31, 30, 31, 30, 31]\n",
    "\n",
    "# range関数に引数を2つ渡すとどうなるかは，教科書 p.197 参照\n",
    "for m in range(1, 11):\n",
    "    print(m + '月は' + m + '日あるよ')"
   ],
   "outputs": [],
   "metadata": {
    "id": "9BSAIvLIE9pn"
   }
  },
  {
   "cell_type": "markdown",
   "source": [
    "## （え）\n",
    "以下のセルを実行すると変数 `sum` に\n",
    "$$ \\sum_{k=1}^{N} (3k^2 - 3k + 1) $$\n",
    "の値が代入されるように，セルに for 文を使ったコードを追加しなさい． `N = 8` のときの結果は `512`，`N = 10` のときは `1000`， `N = 100` のときは `1000000`...\n"
   ],
   "metadata": {
    "id": "Qfd0w6wrSgM9"
   }
  },
  {
   "cell_type": "code",
   "execution_count": null,
   "source": [
    "N = 8\n",
    "sum = 0\n",
    "\n",
    "\n",
    "print(sum)"
   ],
   "outputs": [],
   "metadata": {
    "id": "vjE7nBw3LuDI"
   }
  },
  {
   "cell_type": "markdown",
   "source": [
    "\n",
    "（余談）\n",
    "$$ \\sum_{k=1}^{N} (3k^2 - 3k + 1)  = 3\\sum_{k=1}^{N}k^2 - 3\\sum_{k=1}^{N}k + N = ...$$"
   ],
   "metadata": {}
  },
  {
   "cell_type": "markdown",
   "source": [
    "## （お）\n",
    "\n",
    "以下のセルを実行すると，次の出力が得られるように，セル中のコードを修正しなさい．\n",
    "- 2重の for 文を使うこと\n",
    "- 変数 `Pascal` の値を書き換えてはいけない．\n",
    "\n",
    "```\n",
    "1 \n",
    "1 2 1 \n",
    "1 3 3 1 \n",
    "1 4 6 4 1 \n",
    "1 5 10 10 5 1\n",
    "```"
   ],
   "metadata": {
    "id": "n3_TRO19E0T0"
   }
  },
  {
   "cell_type": "code",
   "execution_count": null,
   "source": [
    "Pascal = [\n",
    "          [1],\n",
    "          [1, 2, 1],\n",
    "          [1, 3, 3, 1],\n",
    "          [1, 4, 6, 4, 1],\n",
    "          [1, 5, 10, 10, 5, 1],\n",
    "]\n",
    "\n",
    "for x in Pascal:\n",
    "    print(x)\n",
    "    print()"
   ],
   "outputs": [],
   "metadata": {
    "id": "mNZvoE_uC6Hd"
   }
  }
 ],
 "metadata": {
  "colab": {
   "collapsed_sections": [],
   "name": "ex02kadaiA.ipynb",
   "provenance": []
  },
  "kernelspec": {
   "display_name": "Python 3",
   "language": "python",
   "name": "python3"
  },
  "language_info": {
   "codemirror_mode": {
    "name": "ipython",
    "version": 3
   },
   "file_extension": ".py",
   "mimetype": "text/x-python",
   "name": "python",
   "nbconvert_exporter": "python",
   "pygments_lexer": "ipython3",
   "version": "3.8.5"
  }
 },
 "nbformat": 4,
 "nbformat_minor": 4
}