{
 "cells": [
  {
   "cell_type": "markdown",
   "source": [
    "# AProg2021 ex04 Notebook その1\n",
    "\n",
    "AProgのページ https://www-tlab.math.ryukoku.ac.jp/wiki/?AProg/2021"
   ],
   "metadata": {}
  },
  {
   "cell_type": "markdown",
   "source": [
    "---\n",
    "## ディクショナリ（辞書）を使う (pp.114-123)"
   ],
   "metadata": {}
  },
  {
   "cell_type": "markdown",
   "source": [
    "### ディクショナリとは (pp.114-117)"
   ],
   "metadata": {}
  },
  {
   "cell_type": "markdown",
   "source": [
    "以前学んだ **リスト** は，複数の要素を順番付きでひとまとめにして扱うものです．\n",
    "個々の要素をばらばらに扱うのに比べて，簡潔なプログラムを書くことができます．"
   ],
   "metadata": {}
  },
  {
   "cell_type": "code",
   "execution_count": null,
   "source": [
    "# 10個の数の和(1)\n",
    "x01 = 1; x02 = 2; x03 = 3; x04 = 4; x05 = 5; x06 = 6; x07 = 7; x08 = 8; x09 = 9; x10 = 10     #  ;（セミコロン）使うと複数行を1行に書ける\n",
    "print(x01 + x02 + x03 + x04 + x05 + x06 + x07 + x08 + x09 + x10)"
   ],
   "outputs": [],
   "metadata": {}
  },
  {
   "cell_type": "markdown",
   "source": [
    "↑みたいなんはとってもやな感じ，リストにすると↓のようになっていい感じ"
   ],
   "metadata": {}
  },
  {
   "cell_type": "code",
   "execution_count": null,
   "source": [
    "# 10個の数の和(2)\n",
    "L = [ 1, 2, 3, 4, 5, 6, 7, 8, 9, 10 ]\n",
    "s = 0\n",
    "for item in L:\n",
    "    s += item\n",
    "print(s)"
   ],
   "outputs": [],
   "metadata": {}
  },
  {
   "cell_type": "code",
   "execution_count": null,
   "source": [
    "# 10個の数の和(3)\n",
    "print(sum(L))"
   ],
   "outputs": [],
   "metadata": {}
  },
  {
   "cell_type": "markdown",
   "source": [
    "リストの場合，「生徒の点数」，「生徒の氏名」のように同じ種類のデータを複数まとめて扱うことが多いでしょう（もちろん異なる種類のデータを並べることもできますが）．\n",
    "一方で，例えばある人の「ニックネーム」，「キャッチフレーズ」，「出身地」のように性質の異なる情報をひとまとめにして扱いたい，という場合もあるでしょう．\n",
    "\n",
    "そういう場合，Python では **ディクショナリ**（**辞書**）というものを使うのがおすすめです．\n",
    "例えば，上記の「ニックネーム」，「キャッチフレーズ」，「出身地」という3つの情報は，次のように一つのディクショナリにまとめることができます．"
   ],
   "metadata": {}
  },
  {
   "cell_type": "code",
   "execution_count": null,
   "source": [
    "purple = { \"ニックネーム\": \"れにちゃん\", \"出身地\": \"神奈川県\", \"キャッチフレーズ\": \"感電少女\" }"
   ],
   "outputs": [],
   "metadata": {}
  },
  {
   "cell_type": "markdown",
   "source": [
    "ディクショナリを作る・定義するときは\n",
    "```\n",
    "{ キー1: 値1, キー2: 値2, ... }\n",
    "```\n",
    "のように， **キー** とそれに対応した値を `:`（コロン）の前後に並べて書きます．\n",
    "この例では，`purple` という変数が表すディクショナリには `ニックネーム`，`出身地`，`キャッチフレーズ` という3種類のキーがあり，`れにちゃん`，`神奈川県`，`感電少女` というのがそれぞれのキーに対応した値ということになります．"
   ],
   "metadata": {}
  },
  {
   "cell_type": "markdown",
   "source": [
    "Notebook や IPython 上では，ディクショナリを表す変数を書いたセルを実行すると，その内容を確認できます．"
   ],
   "metadata": {}
  },
  {
   "cell_type": "code",
   "execution_count": null,
   "source": [
    "purple"
   ],
   "outputs": [],
   "metadata": {}
  },
  {
   "cell_type": "markdown",
   "source": [
    "プログラム等の中では，`print()`関数を使って表示させることができます．"
   ],
   "metadata": {}
  },
  {
   "cell_type": "code",
   "execution_count": null,
   "source": [
    "print(purple)"
   ],
   "outputs": [],
   "metadata": {}
  },
  {
   "cell_type": "markdown",
   "source": [
    "もう一つ別のディクショナリを定義してみましょう．"
   ],
   "metadata": {}
  },
  {
   "cell_type": "code",
   "execution_count": null,
   "source": [
    "hoge = { \"ニックネーム\": \"ほげお\", \"出身地\": \"滋賀県\", \"キャッチフレーズ\": \"ほげほげ〜\" }"
   ],
   "outputs": [],
   "metadata": {}
  },
  {
   "cell_type": "code",
   "execution_count": null,
   "source": [
    "hoge"
   ],
   "outputs": [],
   "metadata": {}
  },
  {
   "cell_type": "markdown",
   "source": [
    "この例の変数 `hoge` も上記の `purple` と同じキーを持ってますが，値は異なっていますね．"
   ],
   "metadata": {}
  },
  {
   "cell_type": "markdown",
   "source": [
    "ディクショナリの中身全部ではなく，特定のキーに対応した値のみを知りたい場合は，\n",
    "```\n",
    "ディクショナリを表す変数名[ キー ]\n",
    "```\n",
    "という形を使います．"
   ],
   "metadata": {}
  },
  {
   "cell_type": "code",
   "execution_count": null,
   "source": [
    "purple[\"ニックネーム\"]"
   ],
   "outputs": [],
   "metadata": {}
  },
  {
   "cell_type": "code",
   "execution_count": null,
   "source": [
    "purple[\"出身地\"]"
   ],
   "outputs": [],
   "metadata": {}
  },
  {
   "cell_type": "code",
   "execution_count": null,
   "source": [
    "print(purple[\"出身地\"])"
   ],
   "outputs": [],
   "metadata": {}
  },
  {
   "cell_type": "code",
   "execution_count": null,
   "source": [
    "hoge[\"キャッチフレーズ\"]"
   ],
   "outputs": [],
   "metadata": {}
  },
  {
   "cell_type": "markdown",
   "source": [
    "#### 練習(1)\n",
    "\n",
    "以下のセルに，次の指示にしたがってディクショナリを作るコードを書き，その次のセルを実行して期待どおりの内容が表示されることを確認してください．\n",
    "- 変数名: `dora`\n",
    "- キーとそれに対応する値は次表の通り\n",
    "\n",
    "|キー|値|\n",
    "|---|---|\n",
    "|名前|`'ドラえもん'`|\n",
    "|種別|`'ネコ型ロボット'`|\n",
    "|あだ名|`'青いタヌキ'`|"
   ],
   "metadata": {}
  },
  {
   "cell_type": "code",
   "execution_count": null,
   "source": [
    "### ここにディクショナリを定義\n"
   ],
   "outputs": [],
   "metadata": {}
  },
  {
   "cell_type": "code",
   "execution_count": null,
   "source": [
    "# 上記で定義した変数の内容を確認\n",
    "print(dora)\n",
    "print(dora['名前'])\n",
    "print(dora['種別'])\n",
    "print(dora['あだ名'])"
   ],
   "outputs": [],
   "metadata": {}
  },
  {
   "cell_type": "markdown",
   "source": [
    "### 値の変更，追加，削除 (pp.117-120)"
   ],
   "metadata": {}
  },
  {
   "cell_type": "markdown",
   "source": [
    "ディクショナリの値を取り出そうとして，キーとして存在しないものを指定すると，どうなるでしょう？"
   ],
   "metadata": {}
  },
  {
   "cell_type": "code",
   "execution_count": null,
   "source": [
    "hoge[\"防御力\"]"
   ],
   "outputs": [],
   "metadata": {}
  },
  {
   "cell_type": "markdown",
   "source": [
    "このように，`KeyError` というエラーになります．"
   ],
   "metadata": {}
  },
  {
   "cell_type": "markdown",
   "source": [
    "次のように**代入文を使うと，指定したキーに対応した値を変更できます**．\n",
    "```\n",
    "ディクショナリを表す変数名[ キー ] = なんたら\n",
    "```"
   ],
   "metadata": {}
  },
  {
   "cell_type": "code",
   "execution_count": null,
   "source": [
    "purple[\"キャッチフレーズ\"] = \"鋼少女\"\n",
    "purple"
   ],
   "outputs": [],
   "metadata": {}
  },
  {
   "cell_type": "markdown",
   "source": [
    "**代入文で指定したキーが存在しなかった場合，新しい要素を追加することになります**．"
   ],
   "metadata": {}
  },
  {
   "cell_type": "code",
   "execution_count": null,
   "source": [
    "purple[\"生年月日\"] = \"1993年6月21日\"\n",
    "purple"
   ],
   "outputs": [],
   "metadata": {}
  },
  {
   "cell_type": "markdown",
   "source": [
    "#### 練習(2)\n",
    "\n",
    "以下のセルに，ディクショナリ hoge にキーが \"防御力\" で値が整数値 1 となる要素を追加するコードを書いてみましょう．"
   ],
   "metadata": {}
  },
  {
   "cell_type": "code",
   "execution_count": null,
   "source": [
    "# このセルに書く\n"
   ],
   "outputs": [],
   "metadata": {}
  },
  {
   "cell_type": "code",
   "execution_count": null,
   "source": [
    "hoge"
   ],
   "outputs": [],
   "metadata": {}
  },
  {
   "cell_type": "markdown",
   "source": [
    "上記のように，ディクショナリの値には，文字列に限らず任意のものを代入することができます（この例では整数値）．"
   ],
   "metadata": {}
  },
  {
   "cell_type": "markdown",
   "source": [
    "以下のセルに，ディクショナリ `dora` にキーが \"体重\" で値が浮動小数点数 `129.3` となる要素を追加するコードを書いてください．"
   ],
   "metadata": {}
  },
  {
   "cell_type": "code",
   "execution_count": null,
   "source": [
    "# このセルに書く\n"
   ],
   "outputs": [],
   "metadata": {}
  },
  {
   "cell_type": "code",
   "execution_count": null,
   "source": [
    "dora"
   ],
   "outputs": [],
   "metadata": {}
  },
  {
   "cell_type": "markdown",
   "source": [
    "**del文を使って要素を削除することもできます**．"
   ],
   "metadata": {}
  },
  {
   "cell_type": "code",
   "execution_count": null,
   "source": [
    "del purple[\"ニックネーム\"]\n",
    "purple"
   ],
   "outputs": [],
   "metadata": {}
  },
  {
   "cell_type": "markdown",
   "source": [
    "### 検索 (pp.120-123)"
   ],
   "metadata": {}
  },
  {
   "cell_type": "markdown",
   "source": [
    "リストで使った `in`演算子（p.86）を使うと，**ディクショナリ中に指定したキーが存在するかどうか**を調べることができます．"
   ],
   "metadata": {}
  },
  {
   "cell_type": "code",
   "execution_count": null,
   "source": [
    "\"キャッチフレーズ\" in purple"
   ],
   "outputs": [],
   "metadata": {}
  },
  {
   "cell_type": "code",
   "execution_count": null,
   "source": [
    "key = \"キャッチフレーズ\"\n",
    "if key in purple:\n",
    "    print(purple[key])"
   ],
   "outputs": [],
   "metadata": {}
  },
  {
   "cell_type": "code",
   "execution_count": null,
   "source": [
    "\"防御力\" in purple"
   ],
   "outputs": [],
   "metadata": {}
  },
  {
   "cell_type": "code",
   "execution_count": null,
   "source": [
    "key = \"防御力\"\n",
    "if key in purple:\n",
    "    print(purple[key])"
   ],
   "outputs": [],
   "metadata": {}
  },
  {
   "cell_type": "markdown",
   "source": [
    "以下は，p.122の例．"
   ],
   "metadata": {}
  },
  {
   "cell_type": "code",
   "execution_count": null,
   "source": [
    "# アラビア数字をローマ数字に変換する\n",
    "#\n",
    "def convert_number(num):\n",
    "    # アラビア数字とローマ数字の対応表をディクショナリに定義\n",
    "    roman_nums = {1:\"I\", 2:\"II\", 3:\"III\", 4:\"IV\", 5:\"V\", 6:\"VI\", 7:\"VII\", 8:\"VIII\", 9:\"IX\"}\n",
    "    if num in roman_nums:\n",
    "        # ディクショナリのキーとして引数の整数が存在していたら\n",
    "        # キーに対応する値を戻り値にする\n",
    "        return roman_nums[num]\n",
    "    else:\n",
    "        return \"[変換できません]\""
   ],
   "outputs": [],
   "metadata": {}
  },
  {
   "cell_type": "code",
   "execution_count": null,
   "source": [
    "print(convert_number(9))"
   ],
   "outputs": [],
   "metadata": {}
  },
  {
   "cell_type": "code",
   "execution_count": null,
   "source": [
    "print(convert_number(0))"
   ],
   "outputs": [],
   "metadata": {}
  },
  {
   "cell_type": "markdown",
   "source": [
    "リストをシーケンスとして `for`文にわたすと，その要素を先頭から順に取り出して繰り返し処理を行うことができるのでした．"
   ],
   "metadata": {}
  },
  {
   "cell_type": "code",
   "execution_count": null,
   "source": [
    "L = [ 0, \"位置\", \"荷\", 3.1415, [\"し\", \"よん\"], 5 ]\n",
    "for item in L:\n",
    "    print(item)"
   ],
   "outputs": [],
   "metadata": {}
  },
  {
   "cell_type": "markdown",
   "source": [
    "ディクショナリをシーケンスとして `for`文にわたした場合も，そのキーを一つずつ取り出して繰り返し処理を行うことができます．"
   ],
   "metadata": {}
  },
  {
   "cell_type": "code",
   "execution_count": null,
   "source": [
    "purple = {\"ニックネーム\": \"れにちゃん\",\n",
    "          \"出身地\": \"神奈川県\",\n",
    "          \"キャッチフレーズ\": \"感電少女\",\n",
    "          \"生年月日\": \"1993年6月21日\"}\n",
    "for key in purple:\n",
    "    print(key)"
   ],
   "outputs": [],
   "metadata": {}
  },
  {
   "cell_type": "markdown",
   "source": [
    "なので，次のようにするとキーと対応する値を列挙させることができます．"
   ],
   "metadata": {}
  },
  {
   "cell_type": "code",
   "execution_count": null,
   "source": [
    "for key in purple:\n",
    "    print(key + \": \" + purple[key])"
   ],
   "outputs": [],
   "metadata": {}
  },
  {
   "cell_type": "markdown",
   "source": [
    "<font size=\"-1\">（よだんだよん） この例をみなさんの環境で実行すると，辞書を定義したときのキーの並び順と出力結果のキーの並び順が同じになっているはずです．\n",
    "Python ではバージョン 3.6 でディクショナリの扱いに変更が加えられ，定義した時のキーの順序を保存するようになりました．ところが，以前はそのような保証ありませんでした(p.117参照)．\n",
    "互換性に気を配って古い環境でも動くようにしたい場合，辞書のキーが定義した順に取り出されるとは限らない前提でプログラムを書かないといけません．\n",
    "ちなみに，いま実行している Python のバージョンは次のセルを実行すれば確認できます．</font>"
   ],
   "metadata": {}
  },
  {
   "cell_type": "code",
   "execution_count": null,
   "source": [
    "import sys\n",
    "sys.version"
   ],
   "outputs": [],
   "metadata": {}
  },
  {
   "cell_type": "markdown",
   "source": [
    "#### 練習(3)\n",
    "\n",
    "以下のセルに，ディクショナリ `dora` に `\"座高\"` というキーがあるかどうか調べ，なければそのキーと値 `100.0` のペアを `dora` に格納し，あればそのキーの値を `99.0` にするコードを書いてください．"
   ],
   "metadata": {}
  },
  {
   "cell_type": "code",
   "execution_count": null,
   "source": [
    "# ここに書く\n"
   ],
   "outputs": [],
   "metadata": {}
  },
  {
   "cell_type": "code",
   "execution_count": null,
   "source": [
    "dora"
   ],
   "outputs": [],
   "metadata": {}
  },
  {
   "cell_type": "code",
   "execution_count": null,
   "source": [],
   "outputs": [],
   "metadata": {}
  }
 ],
 "metadata": {
  "kernelspec": {
   "display_name": "Python 3",
   "language": "python",
   "name": "python3"
  },
  "language_info": {
   "codemirror_mode": {
    "name": "ipython",
    "version": 3
   },
   "file_extension": ".py",
   "mimetype": "text/x-python",
   "name": "python",
   "nbconvert_exporter": "python",
   "pygments_lexer": "ipython3",
   "version": "3.8.5"
  },
  "toc": {
   "base_numbering": 1,
   "nav_menu": {
    "height": "146px",
    "width": "258px"
   },
   "number_sections": false,
   "sideBar": true,
   "skip_h1_title": true,
   "title_cell": "目次",
   "title_sidebar": "Contents",
   "toc_cell": true,
   "toc_position": {},
   "toc_section_display": true,
   "toc_window_display": false
  }
 },
 "nbformat": 4,
 "nbformat_minor": 4
}